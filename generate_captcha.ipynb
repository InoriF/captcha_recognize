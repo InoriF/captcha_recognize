{
 "cells": [
  {
   "cell_type": "code",
   "execution_count": 17,
   "metadata": {},
   "outputs": [],
   "source": [
    "#验证码生成库\n",
    "from captcha.image import ImageCaptcha #pip3 install\n",
    "\n",
    "import numpy as np\n",
    "from PIL import Image\n",
    "import random\n",
    "import sys"
   ]
  },
  {
   "cell_type": "code",
   "execution_count": 18,
   "metadata": {},
   "outputs": [],
   "source": [
    "#所有字符\n",
    "number = ['0','1','2','3','4','5','6','7','8','9']\n",
    "alphabet = ['a','b','c','d','e','f','g','h','i','j','k','l','m','n','o','p','q','r','s','t','u','v','w','x','y','z']\n",
    "ALPHABET = ['A','B','C','D','E','F','G','H','I','J','K','L','M','N','O','P','Q','R','S','T','U','V','W','X','Y','Z']"
   ]
  },
  {
   "cell_type": "code",
   "execution_count": 19,
   "metadata": {},
   "outputs": [],
   "source": [
    "#随机生成验证码序列,默认序列可用字符为数字+小写字母+大写字母，默认序列长度为4\n",
    "def random_captcha(captcha_set=number+alphabet+ALPHABET,captcha_size=4):\n",
    "    #captcha文本\n",
    "    captcha=[]\n",
    "    #随机选取四个字符加入captcha文本\n",
    "    for i in range(captcha_size):\n",
    "        char=random.choice(captcha_set)\n",
    "        captcha.append(char)\n",
    "    return captcha"
   ]
  },
  {
   "cell_type": "code",
   "execution_count": 29,
   "metadata": {},
   "outputs": [],
   "source": [
    "#根据验证码文本调用函数生成验证码图片\n",
    "def generate_captcha():\n",
    "    #生成一张160*60的空白图片存验证码\n",
    "    image=ImageCaptcha()\n",
    "    #随机生成文本\n",
    "    captcha=random_captcha()\n",
    "    #将字符列表转换为字符串\n",
    "    captcha=''.join(captcha)\n",
    "    #生成验证码图片\n",
    "    image_captcha=image.generate(captcha)\n",
    "    #写到图片文件中\n",
    "    image.write(captcha,'images/'+captcha+'.png')"
   ]
  },
  {
   "cell_type": "code",
   "execution_count": 30,
   "metadata": {},
   "outputs": [
    {
     "name": "stdout",
     "output_type": "stream",
     "text": [
      ">>Creating captcha 10000/10000\n",
      "OK!\n"
     ]
    }
   ],
   "source": [
    "#由于存在同名文件会覆盖，所以实际数量会小于num\n",
    "num=10000\n",
    "if __name__=='__main__':\n",
    "    for i in range(num):\n",
    "        generate_captcha()\n",
    "        sys.stdout.write('\\r>>Creating captcha %d/%d'% (i+1,num))\n",
    "        sys.stdout.flush()\n",
    "    sys.stdout.write('\\n')\n",
    "    sys.stdout.flush()\n",
    "    \n",
    "    print(\"OK!\")"
   ]
  },
  {
   "cell_type": "code",
   "execution_count": null,
   "metadata": {},
   "outputs": [],
   "source": []
  }
 ],
 "metadata": {
  "kernelspec": {
   "display_name": "Python [conda env:tensorflow]",
   "language": "python",
   "name": "conda-env-tensorflow-py"
  },
  "language_info": {
   "codemirror_mode": {
    "name": "ipython",
    "version": 3
   },
   "file_extension": ".py",
   "mimetype": "text/x-python",
   "name": "python",
   "nbconvert_exporter": "python",
   "pygments_lexer": "ipython3",
   "version": "3.6.8"
  }
 },
 "nbformat": 4,
 "nbformat_minor": 2
}
