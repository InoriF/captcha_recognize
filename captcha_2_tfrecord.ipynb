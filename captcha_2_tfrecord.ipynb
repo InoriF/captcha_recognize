{
 "cells": [
  {
   "cell_type": "code",
   "execution_count": 2,
   "metadata": {},
   "outputs": [],
   "source": [
    "import tensorflow as tf\n",
    "import os\n",
    "import random\n",
    "import math\n",
    "import sys\n",
    "from PIL import Image\n",
    "import numpy as np"
   ]
  },
  {
   "cell_type": "code",
   "execution_count": 3,
   "metadata": {},
   "outputs": [],
   "source": [
    "#测试集数目\n",
    "NUM_TEST=666\n",
    "\n",
    "#随机种子\n",
    "RANDOM_SEED=0\n",
    "\n",
    "#数据集路径\n",
    "DATASET_DIR='images/'\n",
    "\n",
    "#tfrecord存放路径\n",
    "TFRECORD_DIR='tfrecord/'"
   ]
  },
  {
   "cell_type": "code",
   "execution_count": 4,
   "metadata": {},
   "outputs": [],
   "source": [
    "#判断训练测试集是否存在\n",
    "def dataset_exist(dataset_dir):\n",
    "    for each in ['train','test']:\n",
    "        output=os.path.join(dataset_dir,each+'.tfrecords')\n",
    "        if not tf.gfile.Exists(output):\n",
    "            return False\n",
    "    return True"
   ]
  },
  {
   "cell_type": "code",
   "execution_count": 5,
   "metadata": {},
   "outputs": [],
   "source": [
    "#获取所有验证码图片\n",
    "def get_information(dataset_dir):\n",
    "    pic_filenames=[]\n",
    "    #获取文件夹中所有图片的名字\n",
    "    for filename in os.listdir(dataset_dir):\n",
    "        #获取该张图片完整路径\n",
    "        path=os.path.join(dataset_dir,filename)\n",
    "        #将一张图片完整路径加入pic_filenames列表\n",
    "        pic_filenames.append(path)\n",
    "    return pic_filenames"
   ]
  },
  {
   "cell_type": "code",
   "execution_count": null,
   "metadata": {},
   "outputs": [],
   "source": []
  }
 ],
 "metadata": {
  "kernelspec": {
   "display_name": "Python [conda env:tensorflow]",
   "language": "python",
   "name": "conda-env-tensorflow-py"
  },
  "language_info": {
   "codemirror_mode": {
    "name": "ipython",
    "version": 3
   },
   "file_extension": ".py",
   "mimetype": "text/x-python",
   "name": "python",
   "nbconvert_exporter": "python",
   "pygments_lexer": "ipython3",
   "version": "3.6.8"
  }
 },
 "nbformat": 4,
 "nbformat_minor": 2
}
